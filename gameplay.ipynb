{
 "cells": [
  {
   "cell_type": "markdown",
   "metadata": {},
   "source": [
    "# Chess Gameplay\n",
    "\n",
    "First import our `chess_gameplay` module."
   ]
  },
  {
   "cell_type": "code",
   "execution_count": 3,
   "metadata": {},
   "outputs": [
    {
     "name": "stdout",
     "output_type": "stream",
     "text": [
      "['/usr/lib/python310.zip', '/usr/lib/python3.10', '/usr/lib/python3.10/lib-dynload', '', '/root/chess-hackathon-4/.venv/lib/python3.10/site-packages', '.', 'utils', '.', '/root/chess-hackathon-4/utils']\n"
     ]
    }
   ],
   "source": [
    "from pathlib import Path\n",
    "import sys\n",
    "\n",
    "sys.path.append(\".\")\n",
    "sys.path.append(f\"{Path.cwd()}/utils\")\n",
    "print(sys.path)"
   ]
  },
  {
   "cell_type": "code",
   "execution_count": 5,
   "metadata": {},
   "outputs": [],
   "source": [
    "import chess_gameplay as chg"
   ]
  },
  {
   "cell_type": "markdown",
   "metadata": {},
   "source": [
    "## Playing a game\n",
    "\n",
    "Let's take a look at how games will be played in the tournament. Before running this cell, open the `demo.png` file alongside so you can watch the action!"
   ]
  },
  {
   "cell_type": "code",
   "execution_count": 10,
   "metadata": {},
   "outputs": [
    {
     "name": "stdout",
     "output_type": "stream",
     "text": [
      "white: e3\n",
      "black: c5\n",
      "white: d4\n"
     ]
    },
    {
     "name": "stderr",
     "output_type": "stream",
     "text": [
      "unhandled exception during asyncio.run() shutdown\n",
      "task: <Task finished name='Task-596' coro=<wait_for() done, defined at /usr/lib/python3.10/asyncio/tasks.py:392> exception=EngineTerminatedError('engine process died unexpectedly (exit code: -9)')>\n",
      "Traceback (most recent call last):\n",
      "  File \"/usr/lib/python3.10/asyncio/tasks.py\", line 432, in wait_for\n",
      "    await waiter\n",
      "asyncio.exceptions.CancelledError\n",
      "\n",
      "During handling of the above exception, another exception occurred:\n",
      "\n",
      "Traceback (most recent call last):\n",
      "  File \"/usr/lib/python3.10/asyncio/tasks.py\", line 435, in wait_for\n",
      "    return fut.result()\n",
      "  File \"/root/chess-hackathon-4/.venv/lib/python3.10/site-packages/chess/engine.py\", line 1242, in analyse\n",
      "    await analysis.wait()\n",
      "  File \"/root/chess-hackathon-4/.venv/lib/python3.10/site-packages/chess/engine.py\", line 2771, in wait\n",
      "    return await self._finished\n",
      "chess.engine.EngineTerminatedError: engine process died unexpectedly (exit code: -9)\n"
     ]
    },
    {
     "ename": "KeyboardInterrupt",
     "evalue": "",
     "output_type": "error",
     "traceback": [
      "\u001b[0;31m---------------------------------------------------------------------------\u001b[0m",
      "\u001b[0;31mKeyboardInterrupt\u001b[0m                         Traceback (most recent call last)",
      "Cell \u001b[0;32mIn[10], line 13\u001b[0m\n\u001b[1;32m      5\u001b[0m teams \u001b[38;5;241m=\u001b[39m {\u001b[38;5;124m'\u001b[39m\u001b[38;5;124mwhite\u001b[39m\u001b[38;5;124m'\u001b[39m: \u001b[38;5;124m'\u001b[39m\u001b[38;5;124mTeam White\u001b[39m\u001b[38;5;124m'\u001b[39m, \u001b[38;5;124m'\u001b[39m\u001b[38;5;124mblack\u001b[39m\u001b[38;5;124m'\u001b[39m: \u001b[38;5;124m'\u001b[39m\u001b[38;5;124mTeam Black\u001b[39m\u001b[38;5;124m'\u001b[39m}\n\u001b[1;32m      7\u001b[0m \u001b[38;5;66;03m# Then call the `play_game` function. Note that we're playing here to a maximum depth of 5 moves each. In the\u001b[39;00m\n\u001b[1;32m      8\u001b[0m \u001b[38;5;66;03m# tournament we will be playing to a maximum depth of 50 moves. We are also passing \"poseval\"=True which means \u001b[39;00m\n\u001b[1;32m      9\u001b[0m \u001b[38;5;66;03m# we will use StockFish to evaluate the board state after each move. These evaluations are used to update the \u001b[39;00m\n\u001b[1;32m     10\u001b[0m \u001b[38;5;66;03m# eval bar on the left side of the board rendering in `demo.png`. StockFish will be constrained by a time limit\u001b[39;00m\n\u001b[1;32m     11\u001b[0m \u001b[38;5;66;03m# of 2 seconds and a depth limit of 25.\u001b[39;00m\n\u001b[0;32m---> 13\u001b[0m game_result \u001b[38;5;241m=\u001b[39m \u001b[43mchg\u001b[49m\u001b[38;5;241;43m.\u001b[39;49m\u001b[43mplay_game\u001b[49m\u001b[43m(\u001b[49m\n\u001b[1;32m     14\u001b[0m \u001b[43m    \u001b[49m\u001b[43magents\u001b[49m\u001b[43m,\u001b[49m\u001b[43m \u001b[49m\n\u001b[1;32m     15\u001b[0m \u001b[43m    \u001b[49m\u001b[43mteams\u001b[49m\u001b[43m,\u001b[49m\u001b[43m \u001b[49m\n\u001b[1;32m     16\u001b[0m \u001b[43m    \u001b[49m\u001b[43mmax_moves\u001b[49m\u001b[38;5;241;43m=\u001b[39;49m\u001b[38;5;241;43m10\u001b[39;49m\u001b[43m,\u001b[49m\u001b[43m \u001b[49m\n\u001b[1;32m     17\u001b[0m \u001b[43m    \u001b[49m\u001b[43mmin_seconds_per_move\u001b[49m\u001b[38;5;241;43m=\u001b[39;49m\u001b[38;5;241;43m0.2\u001b[39;49m\u001b[43m,\u001b[49m\u001b[43m \u001b[49m\n\u001b[1;32m     18\u001b[0m \u001b[43m    \u001b[49m\u001b[43mverbose\u001b[49m\u001b[38;5;241;43m=\u001b[39;49m\u001b[38;5;28;43;01mTrue\u001b[39;49;00m\u001b[43m,\u001b[49m\u001b[43m \u001b[49m\n\u001b[1;32m     19\u001b[0m \u001b[43m    \u001b[49m\u001b[43mposeval\u001b[49m\u001b[38;5;241;43m=\u001b[39;49m\u001b[38;5;28;43;01mTrue\u001b[39;49;00m\u001b[43m,\u001b[49m\u001b[43m \u001b[49m\n\u001b[1;32m     20\u001b[0m \u001b[43m    \u001b[49m\u001b[43mimage_path\u001b[49m\u001b[38;5;241;43m=\u001b[39;49m\u001b[38;5;124;43m\"\u001b[39;49m\u001b[38;5;124;43mdemo.png\u001b[39;49m\u001b[38;5;124;43m\"\u001b[39;49m\n\u001b[1;32m     21\u001b[0m \u001b[43m)\u001b[49m\n\u001b[1;32m     23\u001b[0m \u001b[38;5;66;03m# Run this cell. A file `demo.png` will be saved to this repo directory which you can open and watch as it is \u001b[39;00m\n\u001b[1;32m     24\u001b[0m \u001b[38;5;66;03m# updated with moves from the game. The game may end in a checkmate, in which case the winner will recieve 1 point \u001b[39;00m\n\u001b[1;32m     25\u001b[0m \u001b[38;5;66;03m# and the loser will receieve 0 points. If the game ends in a draw or a stalemate, both will receieve 0 points. If \u001b[39;00m\n\u001b[0;32m   (...)\u001b[0m\n\u001b[1;32m     28\u001b[0m \u001b[38;5;66;03m# white and once as black. The winner of the pairing will be the team with the highest score summed over the two \u001b[39;00m\n\u001b[1;32m     29\u001b[0m \u001b[38;5;66;03m# games. In the event of a draw, the pairing will be played again until a winner is declared.\u001b[39;00m\n",
      "File \u001b[0;32m~/chess-hackathon-4/chess_gameplay.py:174\u001b[0m, in \u001b[0;36mplay_game\u001b[0;34m(agents, teams, max_moves, min_seconds_per_move, verbose, poseval, image_path, eval_time_limit, eval_depth_limit)\u001b[0m\n\u001b[1;32m    172\u001b[0m \u001b[38;5;66;03m# evaluate the board:\u001b[39;00m\n\u001b[1;32m    173\u001b[0m \u001b[38;5;28;01mif\u001b[39;00m poseval:\n\u001b[0;32m--> 174\u001b[0m     score \u001b[38;5;241m=\u001b[39m \u001b[43mevaluate_position\u001b[49m\u001b[43m(\u001b[49m\u001b[43mboard\u001b[49m\u001b[43m,\u001b[49m\u001b[43m \u001b[49m\u001b[43mtime_limit\u001b[49m\u001b[38;5;241;43m=\u001b[39;49m\u001b[43meval_time_limit\u001b[49m\u001b[43m,\u001b[49m\u001b[43m \u001b[49m\u001b[43mdepth_limit\u001b[49m\u001b[38;5;241;43m=\u001b[39;49m\u001b[43meval_depth_limit\u001b[49m\u001b[43m)\u001b[49m\n\u001b[1;32m    175\u001b[0m     \u001b[38;5;66;03m# if white just moved, then it's now black's turn, so the score is black's score\u001b[39;00m\n\u001b[1;32m    176\u001b[0m     \u001b[38;5;28;01mif\u001b[39;00m turn \u001b[38;5;241m==\u001b[39m \u001b[38;5;124m'\u001b[39m\u001b[38;5;124mwhite\u001b[39m\u001b[38;5;124m'\u001b[39m:\n",
      "File \u001b[0;32m~/chess-hackathon-4/chess_gameplay.py:262\u001b[0m, in \u001b[0;36mevaluate_position\u001b[0;34m(board, time_limit, depth_limit, STOCKFISH_PATH)\u001b[0m\n\u001b[1;32m    258\u001b[0m \u001b[38;5;28;01mdef\u001b[39;00m \u001b[38;5;21mevaluate_position\u001b[39m(board, time_limit\u001b[38;5;241m=\u001b[39m\u001b[38;5;241m2\u001b[39m, depth_limit\u001b[38;5;241m=\u001b[39m\u001b[38;5;241m25\u001b[39m, STOCKFISH_PATH\u001b[38;5;241m=\u001b[39mSTOCKFISH_PATH):\n\u001b[1;32m    259\u001b[0m     \u001b[38;5;66;03m# Initialize the Stockfish engine\u001b[39;00m\n\u001b[1;32m    260\u001b[0m     \u001b[38;5;28;01mwith\u001b[39;00m SimpleEngine\u001b[38;5;241m.\u001b[39mpopen_uci(STOCKFISH_PATH) \u001b[38;5;28;01mas\u001b[39;00m engine:\n\u001b[1;32m    261\u001b[0m         \u001b[38;5;66;03m# Perform the evaluation\u001b[39;00m\n\u001b[0;32m--> 262\u001b[0m         info \u001b[38;5;241m=\u001b[39m \u001b[43mengine\u001b[49m\u001b[38;5;241;43m.\u001b[39;49m\u001b[43manalyse\u001b[49m\u001b[43m(\u001b[49m\u001b[43mboard\u001b[49m\u001b[43m,\u001b[49m\u001b[43m \u001b[49m\u001b[43mLimit\u001b[49m\u001b[43m(\u001b[49m\u001b[43mdepth\u001b[49m\u001b[38;5;241;43m=\u001b[39;49m\u001b[43mdepth_limit\u001b[49m\u001b[43m,\u001b[49m\u001b[43m \u001b[49m\u001b[43mtime\u001b[49m\u001b[38;5;241;43m=\u001b[39;49m\u001b[43mtime_limit\u001b[49m\u001b[43m)\u001b[49m\u001b[43m)\u001b[49m\n\u001b[1;32m    263\u001b[0m         \u001b[38;5;66;03m# Extract the score\u001b[39;00m\n\u001b[1;32m    264\u001b[0m         score \u001b[38;5;241m=\u001b[39m info[\u001b[38;5;124m'\u001b[39m\u001b[38;5;124mscore\u001b[39m\u001b[38;5;124m'\u001b[39m]\u001b[38;5;241m.\u001b[39mrelative\u001b[38;5;241m.\u001b[39mscore(mate_score\u001b[38;5;241m=\u001b[39m\u001b[38;5;241m10_000\u001b[39m)\n",
      "File \u001b[0;32m~/chess-hackathon-4/.venv/lib/python3.10/site-packages/chess/engine.py:2996\u001b[0m, in \u001b[0;36mSimpleEngine.analyse\u001b[0;34m(self, board, limit, multipv, game, info, root_moves, options)\u001b[0m\n\u001b[1;32m   2992\u001b[0m     coro \u001b[38;5;241m=\u001b[39m asyncio\u001b[38;5;241m.\u001b[39mwait_for(\n\u001b[1;32m   2993\u001b[0m         \u001b[38;5;28mself\u001b[39m\u001b[38;5;241m.\u001b[39mprotocol\u001b[38;5;241m.\u001b[39manalyse(board, limit, multipv\u001b[38;5;241m=\u001b[39mmultipv, game\u001b[38;5;241m=\u001b[39mgame, info\u001b[38;5;241m=\u001b[39minfo, root_moves\u001b[38;5;241m=\u001b[39mroot_moves, options\u001b[38;5;241m=\u001b[39moptions),\n\u001b[1;32m   2994\u001b[0m         \u001b[38;5;28mself\u001b[39m\u001b[38;5;241m.\u001b[39m_timeout_for(limit))\n\u001b[1;32m   2995\u001b[0m     future \u001b[38;5;241m=\u001b[39m asyncio\u001b[38;5;241m.\u001b[39mrun_coroutine_threadsafe(coro, \u001b[38;5;28mself\u001b[39m\u001b[38;5;241m.\u001b[39mprotocol\u001b[38;5;241m.\u001b[39mloop)\n\u001b[0;32m-> 2996\u001b[0m \u001b[38;5;28;01mreturn\u001b[39;00m \u001b[43mfuture\u001b[49m\u001b[38;5;241;43m.\u001b[39;49m\u001b[43mresult\u001b[49m\u001b[43m(\u001b[49m\u001b[43m)\u001b[49m\n",
      "File \u001b[0;32m/usr/lib/python3.10/concurrent/futures/_base.py:453\u001b[0m, in \u001b[0;36mFuture.result\u001b[0;34m(self, timeout)\u001b[0m\n\u001b[1;32m    450\u001b[0m \u001b[38;5;28;01melif\u001b[39;00m \u001b[38;5;28mself\u001b[39m\u001b[38;5;241m.\u001b[39m_state \u001b[38;5;241m==\u001b[39m FINISHED:\n\u001b[1;32m    451\u001b[0m     \u001b[38;5;28;01mreturn\u001b[39;00m \u001b[38;5;28mself\u001b[39m\u001b[38;5;241m.\u001b[39m__get_result()\n\u001b[0;32m--> 453\u001b[0m \u001b[38;5;28;43mself\u001b[39;49m\u001b[38;5;241;43m.\u001b[39;49m\u001b[43m_condition\u001b[49m\u001b[38;5;241;43m.\u001b[39;49m\u001b[43mwait\u001b[49m\u001b[43m(\u001b[49m\u001b[43mtimeout\u001b[49m\u001b[43m)\u001b[49m\n\u001b[1;32m    455\u001b[0m \u001b[38;5;28;01mif\u001b[39;00m \u001b[38;5;28mself\u001b[39m\u001b[38;5;241m.\u001b[39m_state \u001b[38;5;129;01min\u001b[39;00m [CANCELLED, CANCELLED_AND_NOTIFIED]:\n\u001b[1;32m    456\u001b[0m     \u001b[38;5;28;01mraise\u001b[39;00m CancelledError()\n",
      "File \u001b[0;32m/usr/lib/python3.10/threading.py:320\u001b[0m, in \u001b[0;36mCondition.wait\u001b[0;34m(self, timeout)\u001b[0m\n\u001b[1;32m    318\u001b[0m \u001b[38;5;28;01mtry\u001b[39;00m:    \u001b[38;5;66;03m# restore state no matter what (e.g., KeyboardInterrupt)\u001b[39;00m\n\u001b[1;32m    319\u001b[0m     \u001b[38;5;28;01mif\u001b[39;00m timeout \u001b[38;5;129;01mis\u001b[39;00m \u001b[38;5;28;01mNone\u001b[39;00m:\n\u001b[0;32m--> 320\u001b[0m         \u001b[43mwaiter\u001b[49m\u001b[38;5;241;43m.\u001b[39;49m\u001b[43macquire\u001b[49m\u001b[43m(\u001b[49m\u001b[43m)\u001b[49m\n\u001b[1;32m    321\u001b[0m         gotit \u001b[38;5;241m=\u001b[39m \u001b[38;5;28;01mTrue\u001b[39;00m\n\u001b[1;32m    322\u001b[0m     \u001b[38;5;28;01melse\u001b[39;00m:\n",
      "\u001b[0;31mKeyboardInterrupt\u001b[0m: "
     ]
    }
   ],
   "source": [
    "# Instantiate agents and record team names. Note we're instantiating Agents with no arguments. These agents have been\n",
    "# passed no models to inform their selections, so they will play purely random moves.\n",
    "\n",
    "agents = {'white': chg.Agent(), 'black': chg.Agent()}\n",
    "teams = {'white': 'Team White', 'black': 'Team Black'}\n",
    "\n",
    "# Then call the `play_game` function. Note that we're playing here to a maximum depth of 5 moves each. In the\n",
    "# tournament we will be playing to a maximum depth of 50 moves. We are also passing \"poseval\"=True which means \n",
    "# we will use StockFish to evaluate the board state after each move. These evaluations are used to update the \n",
    "# eval bar on the left side of the board rendering in `demo.png`. StockFish will be constrained by a time limit\n",
    "# of 2 seconds and a depth limit of 25.\n",
    "\n",
    "game_result = chg.play_game(\n",
    "    agents, \n",
    "    teams, \n",
    "    max_moves=10, \n",
    "    min_seconds_per_move=0.2, \n",
    "    verbose=True, \n",
    "    poseval=True, \n",
    "    image_path=\"demo.png\"\n",
    ")\n",
    "\n",
    "# Run this cell. A file `demo.png` will be saved to this repo directory which you can open and watch as it is \n",
    "# updated with moves from the game. The game may end in a checkmate, in which case the winner will recieve 1 point \n",
    "# and the loser will receieve 0 points. If the game ends in a draw or a stalemate, both will receieve 0 points. If \n",
    "# the maximum number of moves is reached without a conclusion to the game, the StockFish evaluations of the final \n",
    "# board state are used as the points for each Agent. For each pairing in the tournament, teams will play once as \n",
    "# white and once as black. The winner of the pairing will be the team with the highest score summed over the two \n",
    "# games. In the event of a draw, the pairing will be played again until a winner is declared."
   ]
  },
  {
   "cell_type": "markdown",
   "metadata": {},
   "source": [
    "## Agents using models\n",
    "\n",
    "Until you have trained a model and saved a checkpoint, you will not be able to run the following cell, but you can see how your model will be called and passed to an Agent to play with."
   ]
  },
  {
   "cell_type": "code",
   "execution_count": 11,
   "metadata": {},
   "outputs": [],
   "source": [
    "import torch\n",
    "import yaml\n",
    "\n",
    "# Your model must be imported exactly as follows; from a module called \"model\" (a file called \"model.py\") and with\n",
    "# the class name \"Model\".\n",
    "\n",
    "from model import Model\n",
    "\n",
    "# All necessary arguments for your model to initialize with must be saved in a YAML file called \"model_config.yaml\"\n",
    "# so that your model can be instantiated exactly as follows. Your model must NOT require any initialization arguments\n",
    "# besides those described in your \"model_config.yaml\" file.\n",
    "\n",
    "model_config = yaml.safe_load(open(\"model_config.yaml\"))\n",
    "model = Model(**model_config)\n",
    "\n",
    "# Your model checkpoint must be called \"checkpoint.pt\" and must be a dictionary-like object with your model weights\n",
    "# stored at the key \"model\" so that it can be loaded into your model exactly as follows.\n",
    "\n",
    "device = \"cuda\" if torch.cuda.is_available() else \"cpu\"\n",
    "checkpoint = torch.load(\"checkpoint.pt\", map_location=device)\n",
    "model.load_state_dict(checkpoint[\"model\"])\n",
    "\n",
    "# Note: when you load your model weights you may see the following warning. You can safely ignore this warning.\n",
    "\n",
    "ignore = \"\"\"\n",
    "/root/.chess/lib/python3.10/site-packages/torch/cuda/__init__.py:619: UserWarning: Can't initialize NVML\n",
    "  warnings.warn(\"Can't initialize NVML\")\n",
    "\"\"\""
   ]
  },
  {
   "cell_type": "code",
   "execution_count": 12,
   "metadata": {},
   "outputs": [
    {
     "name": "stdout",
     "output_type": "stream",
     "text": [
      "white: d3\n",
      "black: e5\n",
      "white: Na3\n",
      "black: f5\n",
      "white: h3\n",
      "black: Qf6\n",
      "white: d4\n",
      "black: h5\n",
      "white: Bg5\n",
      "black: Kd8\n",
      "Max moves reached.\n",
      "White score: 0.532, Black score: 0.468\n"
     ]
    }
   ],
   "source": [
    "# The model is passed as the first positional argument to the Agent, and is then available to the agent to use for\n",
    "# selecting moves in the game.\n",
    "\n",
    "agents = {'white': chg.Agent(model), 'black': chg.Agent(model)}\n",
    "teams = {'white': 'Team White', 'black': 'Team Black'}\n",
    "\n",
    "game_result = chg.play_game(\n",
    "    agents, \n",
    "    teams, \n",
    "    max_moves=100, \n",
    "    min_seconds_per_move=0, \n",
    "    verbose=True, \n",
    "    poseval=True, \n",
    "    image_path=\"demo.png\"\n",
    ")"
   ]
  },
  {
   "cell_type": "code",
   "execution_count": null,
   "metadata": {},
   "outputs": [],
   "source": []
  }
 ],
 "metadata": {
  "kernelspec": {
   "display_name": ".venv",
   "language": "python",
   "name": "python3"
  },
  "language_info": {
   "codemirror_mode": {
    "name": "ipython",
    "version": 3
   },
   "file_extension": ".py",
   "mimetype": "text/x-python",
   "name": "python",
   "nbconvert_exporter": "python",
   "pygments_lexer": "ipython3",
   "version": "3.10.12"
  }
 },
 "nbformat": 4,
 "nbformat_minor": 2
}
